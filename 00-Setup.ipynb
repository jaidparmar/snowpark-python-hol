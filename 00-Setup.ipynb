{
 "cells": [
  {
   "cell_type": "markdown",
   "metadata": {},
   "source": [
    "# Setup or Reset"
   ]
  },
  {
   "cell_type": "markdown",
   "metadata": {},
   "source": [
    "## Warning!!!!\n",
    "### Running this code will delete an existing database as specified in the state dictionary below.\n",
    "\n",
    "We will start with a wrapper around Snowpark to simplify connections and the ability to choose different compute instances.  We need a way to save state throughout the project too.  \n",
    "  \n",
    "Update the \\<USERNAME>, \\<ACCOUNTNAME> and \\<DOMAIN> in the state dictionary below."
   ]
  },
  {
   "cell_type": "code",
   "execution_count": null,
   "metadata": {},
   "outputs": [],
   "source": [
    "state_dict = {\n",
    "    \"connection_parameters\": {\"user\": \"<USERNAME>\",  \n",
    "                              \"database\": \"CITIBIKEML_<USERNAME>\",  \n",
    "                              \"schema\": \"DEMO\",  \n",
    "                              \"account\": \"<ACCOUNTNAME>.<DOMAIN>\",\n",
    "                              \"role\": \"PUBLIC\",  \n",
    "    },\n",
    "    \"compute_parameters\" : {\n",
    "              \"default_warehouse\": \"XSMALL_WH\",  \n",
    "              \"task_warehouse\": \"XSMALL_WH\",  \n",
    "              \"load_warehouse\": \"LARGE_WH\",  \n",
    "              \"fe_warehouse\": \"XXLARGE_WH\",  \n",
    "              \"train_warehouse\": \"XXLARGE_WH\"  \n",
    "    }\n",
    "}"
   ]
  },
  {
   "cell_type": "code",
   "execution_count": null,
   "metadata": {},
   "outputs": [],
   "source": [
    "import json\n",
    "with open('./include/state.json', 'w') as sdf:\n",
    "    json.dump(state_dict, sdf)"
   ]
  },
  {
   "cell_type": "markdown",
   "metadata": {},
   "source": [
    "We will connect with username and password."
   ]
  },
  {
   "cell_type": "code",
   "execution_count": null,
   "metadata": {},
   "outputs": [],
   "source": [
    "import snowflake.snowpark as snp\n",
    "import json\n",
    "import getpass\n",
    "\n",
    "with open('./include/state.json') as sdf:\n",
    "    state_dict = json.load(sdf)    \n",
    "state_dict['connection_parameters']['password'] = getpass.getpass()\n",
    "\n",
    "session = snp.Session.builder.configs(state_dict[\"connection_parameters\"]).create()"
   ]
  },
  {
   "cell_type": "markdown",
   "metadata": {},
   "source": [
    "If you do not currently have these users and roles created you can use something like the following to create them."
   ]
  },
  {
   "cell_type": "code",
   "execution_count": null,
   "metadata": {},
   "outputs": [],
   "source": [
    "# session.use_role('securityadmin')\n",
    "\n",
    "# initial_password='snow2022'\n",
    "# new_usernames=['john1', 'john2']\n",
    "# project_role='PUBLIC'\n",
    "\n",
    "# for username in new_usernames:\n",
    "#     session.sql(\"CREATE USER IF NOT EXISTS \"+username+\\\n",
    "#                 \" PASSWORD = '\"+initial_password+\\\n",
    "#                 \"' LOGIN_NAME = '\"+username+\\\n",
    "#                 \"' DEFAULT_ROLE = '\"+project_role+\\\n",
    "#                 \"' MUST_CHANGE_PASSWORD = TRUE\")\\\n",
    "#             .collect()\n",
    "#     session.sql(\"GRANT ROLE \"+project_role+\" TO USER \"+username).collect()\n",
    "#     #session.sql(\"DROP USER \"+username).collect()\n",
    "\n",
    "# session.use_role('sysadmin')\n",
    "# session.sql(\"GRANT CREATE DATABASE ON ACCOUNT TO ROLE \"+project_role).collect()\n",
    "\n",
    "# session.use_role(state_dict['connection_parameters']['role'])"
   ]
  },
  {
   "cell_type": "markdown",
   "metadata": {},
   "source": [
    "Likewise for compute warehouses the following code example can create them automatically."
   ]
  },
  {
   "cell_type": "code",
   "execution_count": null,
   "metadata": {},
   "outputs": [],
   "source": [
    "# session.use_role('accountadmin')\n",
    "# project_role='PUBLIC'\n",
    "\n",
    "# for wh in state_dict['compute_parameters'].values():\n",
    "#     session.sql(\"CREATE WAREHOUSE IF NOT EXISTS \"+wh+\\\n",
    "#             \" WITH WAREHOUSE_SIZE = '\"+wh.split('_')[0]+\\\n",
    "#             \"' WAREHOUSE_TYPE = 'STANDARD' AUTO_SUSPEND = 300 AUTO_RESUME = TRUE initially_suspended = true;\")\\\n",
    "#         .collect()\n",
    "#     session.sql(\"GRANT USAGE ON WAREHOUSE \"+wh+\" TO ROLE \"+project_role).collect() \n",
    "    \n",
    "# session.use_role(state_dict['connection_parameters']['role'])"
   ]
  },
  {
   "cell_type": "markdown",
   "metadata": {},
   "source": [
    "Allow users to import data shares."
   ]
  },
  {
   "cell_type": "code",
   "execution_count": null,
   "metadata": {},
   "outputs": [],
   "source": [
    "# session.use_role('accountadmin')\n",
    "# session.sql(\"GRANT IMPORT SHARE ON ACCOUNT TO \"+project_role).collect()\n",
    "# session.use_role(state_dict['connection_parameters']['role'])"
   ]
  },
  {
   "cell_type": "markdown",
   "metadata": {},
   "source": [
    "Quick test of changing compute types"
   ]
  },
  {
   "cell_type": "code",
   "execution_count": null,
   "metadata": {},
   "outputs": [],
   "source": [
    "session.get_current_warehouse()"
   ]
  },
  {
   "cell_type": "code",
   "execution_count": null,
   "metadata": {},
   "outputs": [],
   "source": [
    "for wh in state_dict['compute_parameters'].keys():\n",
    "    session.use_warehouse(state_dict['compute_parameters'][wh])"
   ]
  },
  {
   "cell_type": "code",
   "execution_count": null,
   "metadata": {},
   "outputs": [],
   "source": [
    "session.get_current_warehouse()"
   ]
  },
  {
   "cell_type": "code",
   "execution_count": null,
   "metadata": {},
   "outputs": [],
   "source": [
    "session.close()"
   ]
  },
  {
   "cell_type": "markdown",
   "metadata": {},
   "source": [
    "Save the updated state dictionary for project team use."
   ]
  },
  {
   "cell_type": "code",
   "execution_count": null,
   "metadata": {},
   "outputs": [],
   "source": [
    "import json\n",
    "with open('./include/state.json', 'w') as sdf:\n",
    "    json.dump(state_dict, sdf)"
   ]
  },
  {
   "cell_type": "markdown",
   "metadata": {},
   "source": [
    " We add a python function to simplify starting a session.  We will add a new dictionary of compute resources available to our DE and ML Ops pipeline. "
   ]
  },
  {
   "cell_type": "code",
   "execution_count": null,
   "metadata": {},
   "outputs": [],
   "source": [
    "%%writefile dags/snowpark_connection.py\n",
    "\n",
    "def snowpark_connect(state_file='./include/state.json'):\n",
    "    import snowflake.snowpark as snp\n",
    "    import json\n",
    "    \n",
    "    with open(state_file) as sdf:\n",
    "        state_dict = json.load(sdf)    \n",
    "    \n",
    "    session=None\n",
    "    session = snp.Session.builder.configs(state_dict[\"connection_parameters\"]).create()\n",
    "    session.use_warehouse(state_dict['compute_parameters']['default_warehouse'])\n",
    "    return session, state_dict"
   ]
  },
  {
   "cell_type": "markdown",
   "metadata": {},
   "source": [
    "Test the function that users will use."
   ]
  },
  {
   "cell_type": "code",
   "execution_count": null,
   "metadata": {},
   "outputs": [],
   "source": [
    "from dags.snowpark_connection import snowpark_connect\n",
    "session, state_dict = snowpark_connect()"
   ]
  },
  {
   "cell_type": "markdown",
   "metadata": {},
   "source": [
    "Create the database and schema for this project."
   ]
  },
  {
   "cell_type": "code",
   "execution_count": null,
   "metadata": {},
   "outputs": [],
   "source": [
    "_ = session.sql('CREATE OR REPLACE DATABASE '+state_dict['connection_parameters']['database']).collect()\n",
    "_ = session.sql('CREATE SCHEMA '+state_dict['connection_parameters']['schema']).collect() "
   ]
  },
  {
   "cell_type": "code",
   "execution_count": null,
   "metadata": {
    "scrolled": true
   },
   "outputs": [],
   "source": [
    "session.close()"
   ]
  },
  {
   "cell_type": "code",
   "execution_count": null,
   "metadata": {},
   "outputs": [],
   "source": []
  }
 ],
 "metadata": {
  "authors": [
   {
    "name": "cforbe"
   }
  ],
  "kernelspec": {
   "display_name": "Python 3 (ipykernel)",
   "language": "python",
   "name": "python3"
  },
  "language_info": {
   "codemirror_mode": {
    "name": "ipython",
    "version": 3
   },
   "file_extension": ".py",
   "mimetype": "text/x-python",
   "name": "python",
   "nbconvert_exporter": "python",
   "pygments_lexer": "ipython3",
   "version": "3.8.12"
  },
  "msauthor": "trbye"
 },
 "nbformat": 4,
 "nbformat_minor": 4
}
