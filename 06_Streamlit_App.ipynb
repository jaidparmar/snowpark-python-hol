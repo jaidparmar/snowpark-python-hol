{
 "cells": [
  {
   "cell_type": "markdown",
   "id": "e5e5c1e4",
   "metadata": {},
   "source": [
    "# Citibike ML\n",
    "In this example we use the [Citibike dataset](https://ride.citibikenyc.com/system-data). Citibike is a bicycle sharing system in New York City. Everyday users choose from 20,000 bicycles at 1300 stations around New York City.\n",
    "\n",
    "To ensure customer satisfaction Citibike needs to predict how many bicycles will be needed at each station. Maintenance teams from Citibike will check each station and repair or replace bicycles. Additionally, the team will relocate bicycles between stations based on predicted demand. The business needs to be able to run reports of how many bicycles will be needed at a given station on a given day."
   ]
  },
  {
   "cell_type": "markdown",
   "id": "2e21e38c",
   "metadata": {},
   "source": [
    "## Streamlit Application\n",
    "In this section of the demo, we will utilize Streamlit with Snowpark's Python client-side Dataframe API to create a visual front-end application for the Citibike operations team to consume the insights from the ML forecast.\n",
    "\n",
    "For this demo flow we will assume that the organization has the following **policies and processes** :   \n",
    "-**Dev Tools**: The ML engineer can develop in their tool of choice (ie. VS Code, IntelliJ, Pycharm, Eclipse, etc.).  Snowpark Python makes it possible to use any environment where they have a python kernel.  For the sake of a demo we will use Jupyter.  \n",
    "-**Data Governance**: To preserve customer privacy no data can be stored locally.  The ingest system may store data temporarily but it must be assumed that, in production, the ingest system will not preserve intermediate data products between runs. Snowpark Python allows the user to push-down all operations to Snowflake and bring the code to the data.   \n",
    "-**Automation**: Although the ML engineer can use any IDE or notebooks for development purposes the final product must be python code at the end of the work stream.  Well-documented, modularized code is necessary for good ML operations and to interface with the company's CI/CD and orchestration tools.  \n",
    "-**Compliance**: Any ML models must be traceable back to the original data set used for training.  The business needs to be able to easily remove specific user data from training datasets and retrain models. "
   ]
  },
  {
   "cell_type": "code",
   "execution_count": null,
   "id": "b1e3bec2",
   "metadata": {
    "scrolled": true
   },
   "outputs": [],
   "source": [
    "!pip -q install streamlit"
   ]
  },
  {
   "cell_type": "code",
   "execution_count": null,
   "id": "7eeced31",
   "metadata": {},
   "outputs": [],
   "source": [
    "from snowflake.snowpark import functions as F\n",
    "from dags.snowpark_connection import snowpark_connect\n",
    "import logging\n",
    "logging.basicConfig(level=logging.WARN)\n",
    "logging.getLogger().setLevel(logging.WARN)\n",
    "session, state_dict = snowpark_connect('./include/state.json')"
   ]
  },
  {
   "cell_type": "code",
   "execution_count": null,
   "id": "e164e939",
   "metadata": {},
   "outputs": [],
   "source": [
    "import pandas as pd\n",
    "import streamlit as st"
   ]
  },
  {
   "cell_type": "code",
   "execution_count": null,
   "id": "a66099ab",
   "metadata": {},
   "outputs": [],
   "source": [
    "%%writefile streamlit_app.py\n",
    "import streamlit as st\n",
    "import pandas as pd\n",
    "from datetime import timedelta\n",
    "import altair as alt\n",
    "from snowflake.snowpark import functions as F\n",
    "from dags.snowpark_connection import snowpark_connect\n",
    "import logging\n",
    "logging.basicConfig(level=logging.WARN)\n",
    "logging.getLogger().setLevel(logging.WARN)\n",
    "\n",
    "session, state_dict = snowpark_connect('./include/state.json')\n",
    "\n",
    "\n",
    "def update_forecast_table(forecast_df, stations:list, start_date, end_date):\n",
    "    df = forecast_df.where((F.col('DATE') >= start_date) & \n",
    "                           (F.col('DATE') <= end_date))\\\n",
    "                    .select('STATION_ID', 'DATE', 'PRED')\\\n",
    "                    .filter(forecast_df['STATION_ID'].in_(stations))\\\n",
    "                    .to_pandas()\n",
    "    \n",
    "    data = df.pivot(index=\"STATION_ID\", columns=\"DATE\", values=\"PRED\")\n",
    "    st.write(\"### Weekly Forecast\", data)\n",
    "    \n",
    "    return None\n",
    "\n",
    "def update_eval_table(eval_df, stations:list):\n",
    "    df = eval_df.select('STATION_ID', 'RUN_DATE', 'RMSE')\\\n",
    "                    .filter(eval_df['STATION_ID'].in_(stations))\\\n",
    "                    .to_pandas()\n",
    "\n",
    "    data = df.pivot(index=\"STATION_ID\", columns=\"RUN_DATE\", values=\"RMSE\")\n",
    "    st.write(\"### Model Monitor (RMSE)\", data)    \n",
    "    return None\n",
    "\n",
    "\n",
    "forecast_df = session.table('FLAT_FORECAST')\n",
    "eval_df = session.table('FLAT_EVAL')\n",
    "\n",
    "min_date=session.table('FLAT_FORECAST').select(F.min('DATE')).collect()[0][0]\n",
    "max_date=session.table('FLAT_FORECAST').select(F.max('DATE')).collect()[0][0]\n",
    "\n",
    "start_date = st.date_input('Start Date', value=min_date, min_value=min_date, max_value=max_date)\n",
    "show_days = st.number_input('Number of days to show', value=7, min_value=1, max_value=30)\n",
    "end_date = start_date+timedelta(days=show_days)\n",
    "\n",
    "stations_df=session.table('FLAT_FORECAST').select(F.col('STATION_ID')).distinct().to_pandas()\n",
    "\n",
    "stations = st.multiselect('Choose stations', stations_df['STATION_ID'], [\"519\", \"545\"])\n",
    "if not stations:\n",
    "    stations = stations_df['STATION_ID']\n",
    "\n",
    "update_forecast_table(forecast_df, stations, start_date, end_date)\n",
    "\n",
    "update_eval_table(eval_df, stations)\n",
    "\n",
    "download_file_names = st.multiselect(label='Monthly ingest file(s):', \n",
    "                                     options=['202003-citibike-tripdata.csv.zip'], \n",
    "                                     default=['202003-citibike-tripdata.csv.zip'])\n",
    "\n",
    "st.button('Run Ingest Taskflow', args=(download_file_names))"
   ]
  },
  {
   "cell_type": "code",
   "execution_count": null,
   "id": "06ee391f",
   "metadata": {},
   "outputs": [],
   "source": [
    "session.table('FLAT_FORECAST').where((F.col('DATE') >= start_date) & \n",
    "                                     (F.col('DATE') <= end_date))\\\n",
    "                    .select(F.to_char(F.col('DATE'))).show()"
   ]
  },
  {
   "cell_type": "code",
   "execution_count": null,
   "id": "ec6b561c",
   "metadata": {},
   "outputs": [],
   "source": [
    "logging.getLogger().setLevel(logging.WARN)\n",
    "\n",
    "data = session.table('FLAT_FORECAST').where((F.col('DATE') >= start_date) & \n",
    "                           (F.col('DATE') <= end_date))\\\n",
    "                    .select('STATION_ID', F.to_char(F.col('DATE')).alias('DATE'), 'PRED')\\\n",
    "                    .filter(forecast_df['STATION_ID'].in_(stations))\\\n",
    "                    .to_pandas()\\\n",
    "                    #.pivot(index=\"STATION_ID\", columns=\"DATE\", values=\"PRED\")\n",
    "data\n",
    "# alt.Chart(data).mark_rect().encode(\n",
    "#     alt.X('DATE:T'),\n",
    "#     alt.Y('STATION_ID:Q'),\n",
    "#     alt.Color('PRED:N',\n",
    "#         scale=alt.Scale(scheme='greenblue'),\n",
    "#         legend=alt.Legend(title='Total Records')\n",
    "#     )\n",
    "# )\n"
   ]
  },
  {
   "cell_type": "code",
   "execution_count": null,
   "id": "817923c4",
   "metadata": {},
   "outputs": [],
   "source": [
    "\n",
    "\n",
    "\n",
    "# alt.Chart(data).mark_line().encode(\n",
    "#             x=\"DATE:T\",\n",
    "#             y=alt.Y(\"RMSE:N\", stack=None),\n",
    "#             color=\"STATION_ID:N\")\n"
   ]
  },
  {
   "cell_type": "code",
   "execution_count": null,
   "id": "c55cfd12",
   "metadata": {
    "scrolled": true
   },
   "outputs": [],
   "source": [
    "help(alt.Chart().mark_line())"
   ]
  },
  {
   "cell_type": "code",
   "execution_count": null,
   "id": "41eea55f",
   "metadata": {},
   "outputs": [],
   "source": []
  },
  {
   "cell_type": "code",
   "execution_count": null,
   "id": "c860ffc5",
   "metadata": {},
   "outputs": [],
   "source": [
    "import streamlit as st\n",
    "import pandas as pd\n",
    "import altair as alt\n",
    "\n",
    "from urllib.error import URLError\n",
    "\n",
    "@st.cache\n",
    "def get_UN_data():\n",
    "    AWS_BUCKET_URL = \"http://streamlit-demo-data.s3-us-west-2.amazonaws.com\"\n",
    "    df = pd.read_csv(AWS_BUCKET_URL + \"/agri.csv.gz\")\n",
    "    return df.set_index(\"Region\")\n",
    "\n",
    "try:\n",
    "    df = get_UN_data()\n",
    "    countries = st.multiselect(\n",
    "        \"Choose countries\", list(df.index), [\"China\", \"United States of America\"]\n",
    "    )\n",
    "    if not countries:\n",
    "        st.error(\"Please select at least one country.\")\n",
    "    else:\n",
    "        data = df.loc[countries]\n",
    "        data /= 1000000.0\n",
    "        st.write(\"### Gross Agricultural Production ($B)\", data.sort_index())\n",
    "\n",
    "        data = data.T.reset_index()\n",
    "        data = pd.melt(data, id_vars=[\"index\"]).rename(\n",
    "            columns={\"index\": \"year\", \"value\": \"Gross Agricultural Product ($B)\"}\n",
    "        )\n",
    "        chart = (\n",
    "            alt.Chart(data)\n",
    "            .mark_area(opacity=0.3)\n",
    "            .encode(\n",
    "                x=\"year:T\",\n",
    "                y=alt.Y(\"Gross Agricultural Product ($B):Q\", stack=None),\n",
    "                color=\"Region:N\",\n",
    "            )\n",
    "        )\n",
    "        st.altair_chart(chart, use_container_width=True)\n",
    "except URLError as e:\n",
    "    st.error(\n",
    "        \"\"\"\n",
    "        **This demo requires internet access.**\n",
    "\n",
    "        Connection error: %s\n",
    "    \"\"\"\n",
    "        % e.reason\n",
    "    )"
   ]
  },
  {
   "cell_type": "code",
   "execution_count": null,
   "id": "352ec2c7",
   "metadata": {},
   "outputs": [],
   "source": [
    "AWS_BUCKET_URL = \"http://streamlit-demo-data.s3-us-west-2.amazonaws.com\"\n",
    "df1 = pd.read_csv(AWS_BUCKET_URL + \"/agri.csv.gz\")\n",
    "df1 = df1.set_index(\"Region\")\n",
    "countries = [\"China\", \"United States of America\"]\n",
    "data = df1.loc[countries]\n",
    "data /= 1000000.0\n",
    "data = data.T.reset_index()\n",
    "data = pd.melt(data, id_vars=[\"index\"]).rename(\n",
    "            columns={\"index\": \"year\", \"value\": \"Gross Agricultural Product ($B)\"})"
   ]
  },
  {
   "cell_type": "code",
   "execution_count": null,
   "id": "bd6e1432",
   "metadata": {},
   "outputs": [],
   "source": []
  },
  {
   "cell_type": "code",
   "execution_count": null,
   "id": "e370d57a",
   "metadata": {},
   "outputs": [],
   "source": [
    "data"
   ]
  }
 ],
 "metadata": {
  "kernelspec": {
   "display_name": "Python 3 (ipykernel)",
   "language": "python",
   "name": "python3"
  },
  "language_info": {
   "codemirror_mode": {
    "name": "ipython",
    "version": 3
   },
   "file_extension": ".py",
   "mimetype": "text/x-python",
   "name": "python",
   "nbconvert_exporter": "python",
   "pygments_lexer": "ipython3",
   "version": "3.8.12"
  }
 },
 "nbformat": 4,
 "nbformat_minor": 5
}
