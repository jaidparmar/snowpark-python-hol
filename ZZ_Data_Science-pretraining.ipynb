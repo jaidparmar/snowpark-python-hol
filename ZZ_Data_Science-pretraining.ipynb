{
 "cells": [
  {
   "cell_type": "markdown",
   "metadata": {},
   "source": [
    "# Citibike ML\n",
    "In this example we use the [Citibike dataset](https://ride.citibikenyc.com/system-data). Citibike is a bicycle sharing system in New York City. Everyday users choose from 20,000 bicycles at 1300 stations around New York City.\n",
    "\n",
    "To ensure customer satisfaction Citibike needs to predict how many bicycles will be needed at each station. Maintenance teams from Citibike will check each station and repair or replace bicycles. Additionally, the team will relocate bicycles between stations based on predicted demand. The business needs to be able to run reports of how many bicycles will be needed at a given station on a given day."
   ]
  },
  {
   "cell_type": "markdown",
   "metadata": {},
   "source": [
    "## Data Exploration and Modeling\n",
    "\n",
    "Now we're to the fun part - the Data Science. Now that the data engineers have cleaned and loaded the data to the `trips` table, we can begin our model development. For this, we will leverage Snowpark to do the **feature preparation and exploratory analysis**.   This dataset is initially ~100 million rows and is likely too large to fit into memory on our local machine or even a reasonable sized single VM in the cloud. The Snowpark Python client-side Dataframe API \n",
    "allows us to push-down most of the computation for preparation and feature engineering to Snowpark. For security and goverance reasons we can read data into memory for model training and inference but no intermediate data products can be stored outside of Snowflake.  \n",
    "\n",
    "For this demo flow we will assume that the organization has the following **policies and processes** :   \n",
    "-**Dev Tools**: The data scientist can develop in their tool of choice (ie. DataRobot, Dataiku, H2o, Sagemaker, AzureML, etc.).  Snowpark Python makes it possible to use any environment with a python kernel.  For the sake of a demo we will use Jupyter.  \n",
    "-**Data Governance**: To preserve customer privacy no data can be stored locally.  The ingest system may store data temporarily but it must be assumed that, in production, the ingest system will not preserve intermediate data products between runs. Snowpark Python allows the user to push-down all operations to Snowflake and bring the code to the data.   \n",
    "-**Automation**: Although the data scientist may use any IDE or notebooks for development purposes the final product must be python code at the end of the work stream.  Well-documented, modularized code is necessary for good ML operations and to interface with the company's CI/CD and orchestration tools.  \n",
    "-**Compliance**: Any ML models must be traceable back to the original data set used for training.  The business needs to be able to easily remove specific user data from training datasets and retrain models. "
   ]
  },
  {
   "cell_type": "markdown",
   "metadata": {},
   "source": [
    "Input: Data in `trips` table.   \n",
    "Output: Feature engineering logic.  Train function.  Predict function."
   ]
  },
  {
   "cell_type": "markdown",
   "metadata": {},
   "source": [
    "For this demo we will rewind in time and assume that it is March 1, 2020.  With the bulk ingest we have 94M records from 2013 to March 2020."
   ]
  },
  {
   "cell_type": "code",
   "execution_count": 1,
   "metadata": {},
   "outputs": [],
   "source": [
    "#today = '2020-03-01'"
   ]
  },
  {
   "cell_type": "code",
   "execution_count": 2,
   "metadata": {},
   "outputs": [],
   "source": [
    "#!pip install -q matplotlib seaborn pytorch-tabnet"
   ]
  },
  {
   "cell_type": "markdown",
   "metadata": {},
   "source": [
    "### 1. Load the Credentials\n"
   ]
  },
  {
   "cell_type": "code",
   "execution_count": 47,
   "metadata": {},
   "outputs": [],
   "source": [
    "from dags.snowpark_connection import snowpark_connect\n",
    "session, state_dict = snowpark_connect()"
   ]
  },
  {
   "cell_type": "markdown",
   "metadata": {},
   "source": [
    "### 2. Exploratory Data Analysis"
   ]
  },
  {
   "cell_type": "code",
   "execution_count": 48,
   "metadata": {},
   "outputs": [],
   "source": [
    "import snowflake.snowpark as snp\n",
    "from snowflake.snowpark import functions as F\n",
    "from snowflake.snowpark import types as T\n",
    "\n",
    "import pandas as pd\n",
    "from pytorch_tabnet.tab_model import TabNetRegressor\n",
    "from sklearn.metrics import mean_squared_error\n",
    "import pickle \n",
    "\n",
    "# import logging\n",
    "# logging.basicConfig(level=logging.WARN)\n",
    "# logging.getLogger().setLevel(logging.DEBUG)"
   ]
  },
  {
   "cell_type": "code",
   "execution_count": 49,
   "metadata": {},
   "outputs": [],
   "source": [
    "trips_table_name = state_dict['trips_table_name']\n",
    "holiday_table_name = 'HOLIDAYS'\n",
    "precip_table_name = 'WEATHER'"
   ]
  },
  {
   "cell_type": "code",
   "execution_count": 50,
   "metadata": {},
   "outputs": [
    {
     "name": "stdout",
     "output_type": "stream",
     "text": [
      "-----------------------------------------------------\n",
      "|\"MIN(\"\"STARTTIME\"\")\"  |\"MAX(\"\"STARTTIME\"\")\"        |\n",
      "-----------------------------------------------------\n",
      "|2013-06-01 00:00:01   |2020-02-29 23:59:35.607000  |\n",
      "-----------------------------------------------------\n",
      "\n"
     ]
    },
    {
     "data": {
      "text/plain": [
       "94331847"
      ]
     },
     "execution_count": 50,
     "metadata": {},
     "output_type": "execute_result"
    }
   ],
   "source": [
    "session.table(trips_table_name).select(F.min('STARTTIME'), F.max('STARTTIME')).show()\n",
    "session.table(trips_table_name).count()"
   ]
  },
  {
   "cell_type": "markdown",
   "metadata": {},
   "source": [
    "This is too large to fit in memory on my local system.  Lets summarize trips to daily resolution and inspect the first ten rows"
   ]
  },
  {
   "cell_type": "code",
   "execution_count": 51,
   "metadata": {},
   "outputs": [
    {
     "name": "stdout",
     "output_type": "stream",
     "text": [
      "------------------------\n",
      "|\"DATE\"      |\"COUNT\"  |\n",
      "------------------------\n",
      "|2013-06-01  |8722     |\n",
      "|2013-06-02  |15971    |\n",
      "|2013-06-03  |7598     |\n",
      "|2013-06-04  |15782    |\n",
      "|2013-06-05  |15690    |\n",
      "|2013-06-06  |12420    |\n",
      "|2013-06-07  |1226     |\n",
      "|2013-06-08  |18007    |\n",
      "|2013-06-09  |21034    |\n",
      "|2013-06-10  |3897     |\n",
      "------------------------\n",
      "\n"
     ]
    }
   ],
   "source": [
    "snowdf = session.table(trips_table_name)\n",
    "snowdf.with_column('DATE', F.to_date('STARTTIME')).group_by('DATE').count().sort('DATE').show(10)"
   ]
  },
  {
   "cell_type": "markdown",
   "metadata": {},
   "source": [
    "Once we aggregate the data at the day level we have a small enough dataset to fit in memory.  But we may want to provide a more granular time series (ie. hour or minute-level) or perhaps our data will grow considerably over time.  In either case we can't rely on in-memory computation and will want to push-down as much computation as possible to Snowflake.  \n",
    "  \n",
    "For exploration purposes we can see a good day and annual cyclic pattern as well as linear trend in the historical data."
   ]
  },
  {
   "cell_type": "code",
   "execution_count": 52,
   "metadata": {
    "scrolled": false
   },
   "outputs": [
    {
     "data": {
      "image/png": "[encoded data removed]",
      "text/plain": [
       "<Figure size 1080x576 with 1 Axes>"
      ]
     },
     "metadata": {},
     "output_type": "display_data"
    }
   ],
   "source": [
    "import matplotlib.pyplot as plt\n",
    "import seaborn as sns\n",
    "\n",
    "df = snowdf.with_column(\"date\", F.to_date(\"STARTTIME\")).group_by(\"date\").count().sort(\"date\").to_pandas()\n",
    "df.head()\n",
    "\n",
    "plt.figure(figsize=(15, 8))\n",
    "ax = sns.lineplot(x='DATE', y='COUNT', data=df)"
   ]
  },
  {
   "cell_type": "code",
   "execution_count": null,
   "metadata": {},
   "outputs": [],
   "source": [
    "import matplotlib.pyplot as plt\n",
    "from statsmodels.graphics.tsaplots import plot_acf\n",
    "%matplotlib inline\n",
    "plt.style.use('seaborn-darkgrid')\n",
    "plt.rc(\"figure\", figsize=(10, 7))\n",
    "plot_acf(df['COUNT'], lags=10)\n",
    "plt.xlabel('Lags', fontsize=12)\n",
    "plt.ylabel('Autocorrelation', fontsize=12)\n",
    "plt.title('Autocorrelation of Trip Count Seasonality', fontsize=14)\n",
    "plt.show()"
   ]
  },
  {
   "cell_type": "code",
   "execution_count": 54,
   "metadata": {},
   "outputs": [
    {
     "data": {
      "image/png": "[encoded data removed]",
      "text/plain": [
       "<Figure size 720x504 with 1 Axes>"
      ]
     },
     "metadata": {},
     "output_type": "display_data"
    }
   ],
   "source": [
    "plt.rc(\"figure\", figsize=(10, 7))\n",
    "plot_acf(df['COUNT'], lags=[1, 7, 30, 60, 90, 365])\n",
    "plt.xlabel('Lags', fontsize=12)\n",
    "plt.ylabel('Autocorrelation', fontsize=12)\n",
    "plt.title('Autocorrelation of Trip Count Seasonality', fontsize=14)\n",
    "plt.show()"
   ]
  },
  {
   "cell_type": "code",
   "execution_count": 55,
   "metadata": {},
   "outputs": [],
   "source": [
    "def generate_features(snowdf):\n",
    "    date_win = snp.Window.order_by('DATE')\n",
    "\n",
    "    return snowdf.select(F.to_date(F.col('STARTTIME')).alias('DATE'),\n",
    "                       F.col('START_STATION_ID').alias('STATION_ID'))\\\n",
    "                .replace({'NULL': None}, subset=['STATION_ID'])\\\n",
    "                .group_by(F.col('STATION_ID'), F.col('DATE'))\\\n",
    "                    .count() \\\n",
    "                .with_column('LAG_1', F.lag('COUNT', offset=1, default_value=None) \\\n",
    "                                       .over(date_win)) \\\n",
    "                .with_column('LAG_7', F.lag('COUNT', offset=7, default_value=None) \\\n",
    "                                         .over(date_win)) \\\n",
    "                .with_column('LAG_30', F.lag('COUNT', offset=30, default_value=None) \\\n",
    "                                         .over(date_win)) \\\n",
    "                .with_column('LAG_365', F.lag('COUNT', offset=365, default_value=None) \\\n",
    "                                         .over(date_win)) \\\n",
    "                .dropna(how='any')\\\n",
    "                .sort('DATE', ascending=True)\\\n",
    "                #.to_pandas()"
   ]
  },
  {
   "cell_type": "code",
   "execution_count": 113,
   "metadata": {},
   "outputs": [],
   "source": [
    "def train(X, y, cutpoint=365, cat_idxs=[], cat_dims=[]):    \n",
    "    X_valid = X[-cutpoint:]\n",
    "    y_valid = y[-cutpoint:]\n",
    "    X_train = X[:-cutpoint]\n",
    "    y_train = y[:-cutpoint]\n",
    "\n",
    "    from pytorch_tabnet.tab_model import TabNetRegressor\n",
    "    import pandas as pd\n",
    "\n",
    "    max_epochs = 1000\n",
    "    \n",
    "    batch_df = pd.DataFrame(range(4,8193,2), columns=['batch_size'])\n",
    "    batch_df['batch_remainder'] = len(X_train)%batch_df['batch_size']\n",
    "    optimal_batch_size=int(batch_df['batch_size'].where(batch_df['batch_remainder']==batch_df['batch_remainder'].min()).max())\n",
    "    #optimal_batch_size=8192\n",
    "    \n",
    "    print('Selected batch size '+str(optimal_batch_size)+' for input data size: '+str(len(X_train)))\n",
    "    \n",
    "    regression_model = TabNetRegressor(cat_idxs=cat_idxs, cat_dims=cat_dims)\n",
    "\n",
    "    regression_model.fit(\n",
    "        X_train, y_train,\n",
    "        eval_set=[(X_valid, y_valid)],\n",
    "        max_epochs=max_epochs,\n",
    "        patience=5,\n",
    "        batch_size=optimal_batch_size, \n",
    "        virtual_batch_size=optimal_batch_size/2,\n",
    "        num_workers=0,\n",
    "        drop_last=True)\n",
    "    \n",
    "    return regression_model\n",
    "\n",
    "def predict(model, X):\n",
    "    y_hat = model.predict(X).reshape(-1)\n",
    "    return y_hat\n",
    "    \n",
    "def plot(df, x_lab:str, y_true_lab:str, y_pred_lab:str):\n",
    "    plt.figure(figsize=(15, 8))\n",
    "    df = pd.melt(df, id_vars=[x_lab], value_vars=[y_true_lab, y_pred_lab])\n",
    "    ax = sns.lineplot(x=x_lab, y='value', hue='variable', data=df)\n",
    "    \n",
    "def train_predict(df):\n",
    "    from collections import defaultdict\n",
    "    from sklearn.preprocessing import LabelEncoder\n",
    "    import pickle\n",
    "\n",
    "    target = ['COUNT']\n",
    "    feature_columns = [feature.replace('\\\"', '') for feature in df.columns]\n",
    "    feature_columns.remove('DATE')\n",
    "    feature_columns.remove(target[0])\n",
    "    cat_features=['STATION_ID']\n",
    "\n",
    "    cat_idxs=[]\n",
    "    cat_dims=[]\n",
    "    for cat_feature in cat_features:\n",
    "        cat_idxs.append(feature_columns.index(cat_feature))\n",
    "        cat_dims.append(len(df[cat_feature].unique()))\n",
    "\n",
    "    l_enc_dict = defaultdict(LabelEncoder)\n",
    "    df[cat_features] = df[cat_features].apply(lambda x: l_enc_dict[x.name].fit_transform(x))\n",
    "\n",
    "    model = train(df[feature_columns].astype(float).values, \n",
    "                  df[target].values, \n",
    "                  cat_idxs=cat_idxs, \n",
    "                  cat_dims=cat_dims)\n",
    "\n",
    "    df['Y_PRED'] = predict(model, df[feature_columns].astype(float).values).astype('int')\n",
    "    \n",
    "    explain_df = pd.DataFrame(model.explain(df[feature_columns].astype('float').values)[0], \n",
    "                              columns = feature_columns).add_prefix('EXPL_').round(2)\n",
    "    df = pd.concat([df.set_index('DATE').reset_index(), explain_df], axis=1)\n",
    "\n",
    "    df[cat_features] = df[cat_features].apply(lambda x: l_enc_dict[x.name].inverse_transform(x))\n",
    "\n",
    "    return df, model, l_enc_dict, feature_columns\n"
   ]
  },
  {
   "cell_type": "code",
   "execution_count": 114,
   "metadata": {},
   "outputs": [
    {
     "name": "stdout",
     "output_type": "stream",
     "text": [
      "Selected batch size 4904 for input data size: 1343697\n",
      "Device used : cpu\n",
      "epoch 0  | loss: 3331.78233| val_0_mse: 833.52294|  0:00:31s\n",
      "epoch 1  | loss: 1693.19046| val_0_mse: 919.2915|  0:01:03s\n",
      "epoch 2  | loss: 1651.38838| val_0_mse: 835.11678|  0:01:35s\n",
      "epoch 3  | loss: 1625.74341| val_0_mse: 702.09212|  0:02:05s\n",
      "epoch 4  | loss: 1618.22943| val_0_mse: 848.77155|  0:02:37s\n",
      "epoch 5  | loss: 1610.18876| val_0_mse: 952.27479|  0:03:09s\n",
      "epoch 6  | loss: 1606.50899| val_0_mse: 949.04716|  0:03:39s\n",
      "epoch 7  | loss: 1602.4475| val_0_mse: 807.97904|  0:04:08s\n",
      "epoch 8  | loss: 1599.73484| val_0_mse: 921.84361|  0:04:37s\n",
      "\n",
      "Early stopping occurred at epoch 8 with best_epoch = 3 and best_val_0_mse = 702.09212\n",
      "Best weights from best epoch are automatically used!\n",
      "Successfully saved model at base_model.joblib.zip\n"
     ]
    }
   ],
   "source": [
    "df, model, l_enc_dict, feature_columns = train_predict(generate_features(snowdf).to_pandas())"
   ]
  },
  {
   "cell_type": "code",
   "execution_count": 129,
   "metadata": {},
   "outputs": [
    {
     "data": {
      "text/html": [
       "<div>\n",
       "<style scoped>\n",
       "    .dataframe tbody tr th:only-of-type {\n",
       "        vertical-align: middle;\n",
       "    }\n",
       "\n",
       "    .dataframe tbody tr th {\n",
       "        vertical-align: top;\n",
       "    }\n",
       "\n",
       "    .dataframe thead th {\n",
       "        text-align: right;\n",
       "    }\n",
       "</style>\n",
       "<table border=\"1\" class=\"dataframe\">\n",
       "  <thead>\n",
       "    <tr style=\"text-align: right;\">\n",
       "      <th></th>\n",
       "      <th>STATION_ID</th>\n",
       "      <th>LAG_1</th>\n",
       "      <th>LAG_7</th>\n",
       "      <th>LAG_30</th>\n",
       "      <th>LAG_365</th>\n",
       "    </tr>\n",
       "  </thead>\n",
       "  <tbody>\n",
       "    <tr>\n",
       "      <th>0</th>\n",
       "      <td>0.608281</td>\n",
       "      <td>0.088697</td>\n",
       "      <td>0.125466</td>\n",
       "      <td>0.177515</td>\n",
       "      <td>0.000041</td>\n",
       "    </tr>\n",
       "  </tbody>\n",
       "</table>\n",
       "</div>"
      ],
      "text/plain": [
       "   STATION_ID     LAG_1     LAG_7    LAG_30   LAG_365\n",
       "0    0.608281  0.088697  0.125466  0.177515  0.000041"
      ]
     },
     "execution_count": 129,
     "metadata": {},
     "output_type": "execute_result"
    }
   ],
   "source": [
    "pd.DataFrame([model.feature_importances_], columns=feature_columns)"
   ]
  },
  {
   "cell_type": "code",
   "execution_count": 137,
   "metadata": {},
   "outputs": [],
   "source": [
    "#df['STATION_ID'] = df[['STATION_ID']].apply(lambda x: l_enc_dict[x.name].fit_transform(x))\n",
    "#df['STATION_ID'] = df[['STATION_ID']].apply(lambda x: l_enc_dict[x.name].inverse_transform(x))"
   ]
  },
  {
   "cell_type": "code",
   "execution_count": 138,
   "metadata": {},
   "outputs": [
    {
     "data": {
      "image/png": "[encoded data removed]",
      "text/plain": [
       "<Figure size 1080x576 with 1 Axes>"
      ]
     },
     "metadata": {},
     "output_type": "display_data"
    }
   ],
   "source": [
    "plot(df[df['STATION_ID']=='519'].sort_values('DATE'), 'DATE', 'COUNT', 'Y_PRED')"
   ]
  },
  {
   "cell_type": "markdown",
   "metadata": {},
   "source": [
    "Our model is underfit for any one station.  What if we take the base model and fine tune with per-station data."
   ]
  },
  {
   "cell_type": "code",
   "execution_count": 128,
   "metadata": {},
   "outputs": [
    {
     "name": "stdout",
     "output_type": "stream",
     "text": [
      "Successfully saved model at base_model.joblib.zip\n"
     ]
    }
   ],
   "source": [
    "# \n",
    "# model_file_name = model.save_model(model_file_name)\n",
    "\n",
    "# with open(encoder_file_name, 'wb') as fh:\n",
    "#     pickle.dump(l_enc_dict, fh)\n",
    "\n",
    "# output_files={'model_file_name':model_file_name, 'encoder_file_name':encoder_file_name}"
   ]
  },
  {
   "cell_type": "markdown",
   "metadata": {},
   "source": [
    "Pretraining"
   ]
  },
  {
   "cell_type": "code",
   "execution_count": 200,
   "metadata": {},
   "outputs": [],
   "source": [
    "df = generate_features(snowdf).to_pandas()"
   ]
  },
  {
   "cell_type": "code",
   "execution_count": 201,
   "metadata": {},
   "outputs": [],
   "source": [
    "from collections import defaultdict\n",
    "from sklearn.preprocessing import LabelEncoder\n",
    "import pickle\n",
    "\n",
    "feature_columns = [feature.replace('\\\"', '') for feature in df.columns]\n",
    "feature_columns.remove('DATE')\n",
    "feature_columns.remove(target[0])\n",
    "cat_features=['STATION_ID']\n",
    "\n",
    "cat_idxs=[]\n",
    "cat_dims=[]\n",
    "for cat_feature in cat_features:\n",
    "    cat_idxs.append(feature_columns.index(cat_feature))\n",
    "    cat_dims.append(len(df[cat_feature].unique()))\n",
    "\n",
    "l_enc_dict = defaultdict(LabelEncoder)\n",
    "df[cat_features] = df[cat_features].apply(lambda x: l_enc_dict[x.name].fit_transform(x))\n",
    "\n",
    "X=df[feature_columns].astype(float).values \n",
    "y=df[target].values\n",
    "\n",
    "cutpoint=365\n",
    "X_valid = X[-cutpoint:]\n",
    "y_valid = y[-cutpoint:]\n",
    "X_train = X[:-cutpoint]\n",
    "y_train = y[:-cutpoint]"
   ]
  },
  {
   "cell_type": "code",
   "execution_count": 202,
   "metadata": {},
   "outputs": [
    {
     "name": "stdout",
     "output_type": "stream",
     "text": [
      "Device used : cpu\n",
      "epoch 0  | loss: 1.04225 | val_0_unsup_loss: 1.19544 |  0:02:16s\n",
      "epoch 1  | loss: 0.98533 | val_0_unsup_loss: 1.25944 |  0:04:32s\n",
      "epoch 2  | loss: 0.98493 | val_0_unsup_loss: 1.35551 |  0:06:48s\n",
      "epoch 3  | loss: 0.98445 | val_0_unsup_loss: 1.27636 |  0:09:04s\n",
      "epoch 4  | loss: 0.98493 | val_0_unsup_loss: 1.14241 |  0:11:21s\n",
      "epoch 5  | loss: 0.98408 | val_0_unsup_loss: 1.19219 |  0:13:38s\n",
      "epoch 6  | loss: 0.98244 | val_0_unsup_loss: 1.03945 |  0:15:54s\n",
      "epoch 7  | loss: 0.98433 | val_0_unsup_loss: 1.1755  |  0:18:10s\n",
      "epoch 8  | loss: 0.98285 | val_0_unsup_loss: 1.05296 |  0:20:25s\n",
      "epoch 9  | loss: 0.9828  | val_0_unsup_loss: 1.0491  |  0:22:42s\n",
      "epoch 10 | loss: 0.98313 | val_0_unsup_loss: 1.03146 |  0:24:58s\n",
      "epoch 11 | loss: 0.98249 | val_0_unsup_loss: 1.09593 |  0:27:14s\n",
      "epoch 12 | loss: 0.98296 | val_0_unsup_loss: 1.04432 |  0:29:32s\n",
      "epoch 13 | loss: 0.98111 | val_0_unsup_loss: 0.98685 |  0:31:48s\n",
      "epoch 14 | loss: 0.9818  | val_0_unsup_loss: 1.0427  |  0:34:03s\n",
      "epoch 15 | loss: 0.98062 | val_0_unsup_loss: 1.0135  |  0:36:19s\n",
      "epoch 16 | loss: 0.98188 | val_0_unsup_loss: 1.05283 |  0:38:35s\n",
      "epoch 17 | loss: 0.98161 | val_0_unsup_loss: 1.02756 |  0:40:51s\n",
      "epoch 18 | loss: 0.98154 | val_0_unsup_loss: 1.1369  |  0:43:07s\n",
      "\n",
      "Early stopping occurred at epoch 18 with best_epoch = 13 and best_val_0_unsup_loss = 0.98685\n",
      "Best weights from best epoch are automatically used!\n"
     ]
    }
   ],
   "source": [
    "from pytorch_tabnet.pretraining import TabNetPretrainer\n",
    "\n",
    "max_epochs = 1000 \n",
    "\n",
    "# TabNetPretrainer\n",
    "unsupervised_model = TabNetPretrainer(\n",
    "    cat_idxs=cat_idxs,\n",
    "    cat_dims=cat_dims,\n",
    "    #cat_emb_dim=3,\n",
    "    #optimizer_fn=torch.optim.Adam,\n",
    "    optimizer_params=dict(lr=2e-2),\n",
    "    mask_type=\"sparsemax\", #'entmax'\n",
    "    #n_shared_decoder=1, # nb shared glu for decoding\n",
    "    #n_indep_decoder=1, # nb independent glu for decoding\n",
    ")\n",
    "\n",
    "unsupervised_model.fit(\n",
    "    X_train=X_train,\n",
    "    eval_set=[X_valid],\n",
    "    max_epochs=max_epochs , patience=5,\n",
    "    batch_size=2048, virtual_batch_size=128,\n",
    "    num_workers=0,\n",
    "    drop_last=False,\n",
    "    pretraining_ratio=0.8,\n",
    ") "
   ]
  },
  {
   "cell_type": "code",
   "execution_count": 203,
   "metadata": {},
   "outputs": [],
   "source": [
    "reconstructed_X, embedded_X = unsupervised_model.predict(X_valid)\n",
    "unsupervised_explain_matrix, unsupervised_masks = unsupervised_model.explain(X_valid)"
   ]
  },
  {
   "cell_type": "code",
   "execution_count": 204,
   "metadata": {},
   "outputs": [
    {
     "data": {
      "image/png": "[encoded data removed]",
      "text/plain": [
       "<Figure size 1440x1440 with 3 Axes>"
      ]
     },
     "metadata": {},
     "output_type": "display_data"
    }
   ],
   "source": [
    "fig, axs = plt.subplots(1, 3, figsize=(20,20))\n",
    "\n",
    "for i in range(3):\n",
    "    axs[i].imshow(unsupervised_masks[i][:50])\n",
    "    axs[i].set_title(f\"mask {i}\")"
   ]
  },
  {
   "cell_type": "code",
   "execution_count": 205,
   "metadata": {},
   "outputs": [
    {
     "name": "stdout",
     "output_type": "stream",
     "text": [
      "Successfully saved model at test_pretrain.zip\n",
      "Device used : cpu\n",
      "Device used : cpu\n"
     ]
    }
   ],
   "source": [
    "encoder_file_name = 'cat_encoder.pkl'\n",
    "with open(encoder_file_name, 'wb') as fh:\n",
    "    pickle.dump(l_enc_dict, fh)\n",
    "\n",
    "unsupervised_model_name = 'test_pretrain'\n",
    "unsupervised_model_name = unsupervised_model.save_model(unsupervised_model_name)\n",
    "loaded_pretrain = TabNetPretrainer()\n",
    "loaded_pretrain.load_model(unsupervised_model_name)"
   ]
  },
  {
   "cell_type": "markdown",
   "metadata": {},
   "source": [
    "Try with pre-training on entire data set"
   ]
  },
  {
   "cell_type": "code",
   "execution_count": 206,
   "metadata": {},
   "outputs": [
    {
     "name": "stdout",
     "output_type": "stream",
     "text": [
      "Device used : cpu\n",
      "Loading weights from unsupervised pretraining\n",
      "epoch 0  | loss: 4911.46043| val_0_mse: 1392.98225|  0:01:43s\n",
      "epoch 1  | loss: 4594.37679| val_0_mse: 1362.46406|  0:03:26s\n",
      "epoch 2  | loss: 4592.98083| val_0_mse: 1301.02836|  0:05:09s\n",
      "epoch 3  | loss: 4592.12496| val_0_mse: 1340.94297|  0:06:52s\n",
      "epoch 4  | loss: 4591.50822| val_0_mse: 1346.66505|  0:08:36s\n",
      "epoch 5  | loss: 4589.96519| val_0_mse: 1316.68597|  0:10:19s\n",
      "epoch 6  | loss: 4590.03544| val_0_mse: 1272.88433|  0:12:03s\n",
      "epoch 7  | loss: 4589.51541| val_0_mse: 1314.78803|  0:13:47s\n",
      "epoch 8  | loss: 4590.41691| val_0_mse: 1397.17851|  0:15:31s\n",
      "epoch 9  | loss: 4589.92621| val_0_mse: 1303.50512|  0:17:15s\n",
      "epoch 10 | loss: 4589.93304| val_0_mse: 1428.34552|  0:18:58s\n",
      "epoch 11 | loss: 4589.26595| val_0_mse: 1340.94572|  0:20:41s\n",
      "\n",
      "Early stopping occurred at epoch 11 with best_epoch = 6 and best_val_0_mse = 1272.88433\n",
      "Best weights from best epoch are automatically used!\n"
     ]
    }
   ],
   "source": [
    "regression_model = TabNetRegressor(cat_idxs=cat_idxs, cat_dims=cat_dims)\n",
    "\n",
    "regression_model.fit(\n",
    "    X_train, y_train,\n",
    "    eval_set=[(X_valid, y_valid)],\n",
    "    max_epochs=max_epochs,\n",
    "    patience=5,\n",
    "    batch_size=2048, \n",
    "    virtual_batch_size=128,\n",
    "    num_workers=0,\n",
    "    drop_last=True,\n",
    "    from_unsupervised=loaded_pretrain\n",
    ")\n",
    "\n",
    "df['Y_PRED'] = predict(regression_model, df[feature_columns].astype(float).values).astype('int')"
   ]
  },
  {
   "cell_type": "code",
   "execution_count": null,
   "metadata": {},
   "outputs": [],
   "source": []
  },
  {
   "cell_type": "code",
   "execution_count": null,
   "metadata": {},
   "outputs": [],
   "source": []
  },
  {
   "cell_type": "markdown",
   "metadata": {},
   "source": [
    "Now try with a per-station dataset"
   ]
  },
  {
   "cell_type": "code",
   "execution_count": 207,
   "metadata": {},
   "outputs": [],
   "source": [
    "df = generate_features(snowdf).filter(F.col('STATION_ID')=='519').to_pandas()"
   ]
  },
  {
   "cell_type": "code",
   "execution_count": 208,
   "metadata": {},
   "outputs": [
    {
     "name": "stdout",
     "output_type": "stream",
     "text": [
      "Selected batch size 14 for input data size: 2087\n",
      "Device used : cpu\n",
      "Device used : cpu\n",
      "Device used : cpu\n",
      "Device used : cpu\n",
      "Loading weights from unsupervised pretraining\n",
      "epoch 0  | loss: 146611.80156| val_0_mse: 171197.31209|  0:00:00s\n",
      "epoch 1  | loss: 97129.61953| val_0_mse: 115047.40734|  0:00:01s\n",
      "epoch 2  | loss: 53842.62383| val_0_mse: 62716.91512|  0:00:01s\n",
      "epoch 3  | loss: 39544.89922| val_0_mse: 48403.93215|  0:00:02s\n",
      "epoch 4  | loss: 38738.26295| val_0_mse: 48890.21506|  0:00:03s\n",
      "epoch 5  | loss: 38639.23298| val_0_mse: 46958.1946|  0:00:03s\n",
      "epoch 6  | loss: 38688.53337| val_0_mse: 46445.14341|  0:00:04s\n",
      "epoch 7  | loss: 37766.76607| val_0_mse: 46685.34017|  0:00:04s\n",
      "epoch 8  | loss: 38215.50893| val_0_mse: 48609.65669|  0:00:05s\n",
      "epoch 9  | loss: 37936.10787| val_0_mse: 47677.69582|  0:00:06s\n",
      "epoch 10 | loss: 38406.98477| val_0_mse: 48821.13133|  0:00:06s\n",
      "epoch 11 | loss: 37519.4986| val_0_mse: 47986.45681|  0:00:07s\n",
      "\n",
      "Early stopping occurred at epoch 11 with best_epoch = 6 and best_val_0_mse = 46445.14341\n",
      "Best weights from best epoch are automatically used!\n"
     ]
    }
   ],
   "source": [
    "from collections import defaultdict\n",
    "from sklearn.preprocessing import LabelEncoder\n",
    "import pickle\n",
    "\n",
    "target = ['COUNT']\n",
    "feature_columns = [feature.replace('\\\"', '') for feature in df.columns]\n",
    "feature_columns.remove('DATE')\n",
    "feature_columns.remove(target[0])\n",
    "cat_features=['STATION_ID']\n",
    "\n",
    "encoder_file_name = 'cat_encoder.pkl'\n",
    "\n",
    "with open(encoder_file_name, 'rb') as fh:\n",
    "    l_enc_dict = pickle.load(fh)\n",
    "\n",
    "cat_idxs=[]\n",
    "cat_dims=[]\n",
    "for cat_feature in cat_features:\n",
    "    cat_idxs.append(feature_columns.index(cat_feature))\n",
    "    cat_dims.append(len(l_enc_dict[cat_feature].classes_))\n",
    "    \n",
    "#cat_idxs, cat_dims\n",
    "\n",
    "#df[cat_features] = df[cat_features].apply(lambda x: l_enc_dict[x.name].transform(x))\n",
    "X=df[feature_columns].astype(float).values \n",
    "y=df[target].values\n",
    "\n",
    "\n",
    "from pytorch_tabnet.tab_model import TabNetRegressor\n",
    "import pandas as pd\n",
    "\n",
    "max_epochs = 1000\n",
    "\n",
    "cutpoint=365\n",
    "X_valid = X[-cutpoint:]\n",
    "y_valid = y[-cutpoint:]\n",
    "X_train = X[:-cutpoint]\n",
    "y_train = y[:-cutpoint]\n",
    "\n",
    "batch_df = pd.DataFrame(range(4,65,2), columns=['batch_size'])\n",
    "batch_df['batch_remainder'] = len(X_train)%batch_df['batch_size']\n",
    "optimal_batch_size=int(batch_df['batch_size'].where(batch_df['batch_remainder']==batch_df['batch_remainder'].min()).max())\n",
    "#optimal_batch_size=8192\n",
    "\n",
    "print('Selected batch size '+str(optimal_batch_size)+' for input data size: '+str(len(X_train)))\n",
    "\n",
    "loaded_pretrain = TabNetPretrainer()\n",
    "loaded_pretrain.load_model(unsupervised_model_name)\n",
    "\n",
    "station_model = TabNetRegressor(cat_idxs=cat_idxs, cat_dims=cat_dims)\n",
    "station_model.load_model(model_file_name)\n",
    "\n",
    "station_model.fit(\n",
    "    X_train, y_train,\n",
    "    eval_set=[(X_valid, y_valid)],\n",
    "    max_epochs=max_epochs,\n",
    "    patience=5,\n",
    "    batch_size=58, \n",
    "    virtual_batch_size=16,\n",
    "    num_workers=0,\n",
    "    drop_last=True,\n",
    "    from_unsupervised=loaded_pretrain\n",
    ")\n",
    "\n",
    "df['Y_PRED'] = predict(station_model, df[feature_columns].astype(float).values).astype('int')\n"
   ]
  },
  {
   "cell_type": "code",
   "execution_count": 209,
   "metadata": {},
   "outputs": [
    {
     "data": {
      "text/plain": [
       "(datetime.date(2013, 6, 2), datetime.date(2020, 2, 29))"
      ]
     },
     "execution_count": 209,
     "metadata": {},
     "output_type": "execute_result"
    }
   ],
   "source": [
    "df.DATE.min(), df.DATE.max()"
   ]
  },
  {
   "cell_type": "code",
   "execution_count": null,
   "metadata": {},
   "outputs": [],
   "source": []
  },
  {
   "cell_type": "code",
   "execution_count": null,
   "metadata": {},
   "outputs": [],
   "source": []
  },
  {
   "cell_type": "code",
   "execution_count": null,
   "metadata": {},
   "outputs": [],
   "source": []
  },
  {
   "cell_type": "code",
   "execution_count": null,
   "metadata": {},
   "outputs": [],
   "source": []
  },
  {
   "cell_type": "code",
   "execution_count": null,
   "metadata": {},
   "outputs": [],
   "source": []
  },
  {
   "cell_type": "code",
   "execution_count": null,
   "metadata": {},
   "outputs": [],
   "source": []
  },
  {
   "cell_type": "markdown",
   "metadata": {},
   "source": [
    "We may not be able to get a good model that can predict across ALL stations.  Lets start with just the busiest stations(s)."
   ]
  },
  {
   "cell_type": "code",
   "execution_count": null,
   "metadata": {},
   "outputs": [],
   "source": [
    "snowdf.filter(F.col('START_STATION_ID').is_not_null()) \\\n",
    "      .group_by('START_STATION_ID') \\\n",
    "      .count() \\\n",
    "      .sort('COUNT', ascending=False).show()"
   ]
  },
  {
   "cell_type": "markdown",
   "metadata": {},
   "source": [
    "Initially we will build with the busiest station \"Central Park S & 6 Ave\" which is STATION_ID=519"
   ]
  },
  {
   "cell_type": "code",
   "execution_count": null,
   "metadata": {},
   "outputs": [],
   "source": [
    "top_stations = snowdf.filter(F.col('START_STATION_ID').is_not_null()) \\\n",
    "                                                   .groupBy('START_STATION_ID') \\\n",
    "                                                   .count() \\\n",
    "                                                   .sort('COUNT', ascending=False) \\\n",
    "                                                   .toPandas()['START_STATION_ID'].values.tolist()\n",
    "top_stations[0:10]"
   ]
  },
  {
   "cell_type": "code",
   "execution_count": null,
   "metadata": {},
   "outputs": [],
   "source": [
    "df = snowdf.filter(F.col('START_STATION_ID') == top_stations[0]) \\\n",
    "      .withColumn('DATE', \n",
    "                  F.call_builtin('DATE_TRUNC', ('DAY', F.col('STARTTIME')))) \\\n",
    "      .groupBy('DATE') \\\n",
    "      .count() \\\n",
    "      .sort('DATE').toPandas()\n",
    "\n",
    "df.head()"
   ]
  },
  {
   "cell_type": "code",
   "execution_count": null,
   "metadata": {},
   "outputs": [],
   "source": [
    "plt.figure(figsize=(15, 8))\n",
    "ax = sns.lineplot(x='DATE', y='COUNT', data=df)"
   ]
  },
  {
   "cell_type": "markdown",
   "metadata": {},
   "source": [
    "To start building the features for a regression model we might start with daily, weekly, monthly, quarterly lag features. \n",
    "  \n",
    "Snowpark has many [functions](https://docs.snowflake.com/en/developer-guide/snowpark/reference/python/_autosummary/snowflake.snowpark.functions.html) for things like transformation, statistical analysis, etc. We will use the `lag()` window function to generate lag features.  \n",
    "  \n",
    "In addition to the rich set of Snowpark functions, users can also tap into the wealth of [Snowflake built-in functions](https://docs.snowflake.com/en/sql-reference/functions-all.html) using the `call_builtin()` function. \n",
    "\n",
    "Here we will generate our features in a function which we may need to add to over time.  In the end the function provides a running list of transformations to build our feature pipeline for inference and training."
   ]
  },
  {
   "cell_type": "code",
   "execution_count": null,
   "metadata": {},
   "outputs": [],
   "source": [
    "def generate_features(snowdf):\n",
    "    \n",
    "    snowdf = snowdf.select(F.to_date(F.col('STARTTIME')).alias('DATE'),\n",
    "                           F.col('START_STATION_ID').alias('STATION_ID'))\\\n",
    "                   .group_by(F.col('STATION_ID'), F.col('DATE'))\\\n",
    "                   .count()\n",
    "    \n",
    "    #Impute missing values for lag columns using mean of the previous period.\n",
    "    mean_1 = round(snowdf.sort('DATE').limit(1).select(F.mean('COUNT')).collect()[0][0])\n",
    "    mean_7 = round(snowdf.sort('DATE').limit(7).select(F.mean('COUNT')).collect()[0][0])\n",
    "    mean_30 = round(snowdf.sort('DATE').limit(30).select(F.mean('COUNT')).collect()[0][0])\n",
    "    mean_90 = round(snowdf.sort('DATE').limit(90).select(F.mean('COUNT')).collect()[0][0])\n",
    "\n",
    "    date_win = snp.Window.order_by('DATE')\n",
    "\n",
    "    snowdf = snowdf.with_column('LAG_1', F.lag('COUNT', offset=1, default_value=mean_1) \\\n",
    "                                         .over(date_win)) \\\n",
    "                   .with_column('LAG_7', F.lag('COUNT', offset=7, default_value=mean_7) \\\n",
    "                                         .over(date_win)) \\\n",
    "                   .with_column('LAG_30', F.lag('COUNT', offset=30, default_value=mean_30) \\\n",
    "                                         .over(date_win)) \\\n",
    "                   .with_column('LAG_90', F.lag('COUNT', offset=90, default_value=mean_90) \\\n",
    "                                         .over(date_win)) \\\n",
    "                   .na.drop()\n",
    "    return snowdf"
   ]
  },
  {
   "cell_type": "code",
   "execution_count": null,
   "metadata": {},
   "outputs": [],
   "source": [
    "train_snowdf = generate_features(snowdf.filter(F.col('START_STATION_ID') == top_stations[0]))\n",
    "train_snowdf.show()"
   ]
  },
  {
   "cell_type": "markdown",
   "metadata": {},
   "source": [
    "### 3. Model Development and Experimentation\n",
    "We will use [pytorch_tabnet](https://github.com/dreamquark-ai/tabnet) from the 2019 [tabnet paper](https://arxiv.org/pdf/1908.07442.pdf) by Arik, S. O. and Pfister, T.  Tabnet is a powerful deep learning framework for attentive, interpretable learning on tabular data.  Rather than substantial focus on hyper-parameter optimization  we will start with an initial set of hyper-parameters and focus on iterating over input features for now.  \n",
    "  \n",
    "Rather than a random split of training/validation data we will split the training dataset using a `cutpoint`.  For example we will save the final 365 days of the dataset as validation and train with the remaining data."
   ]
  },
  {
   "cell_type": "markdown",
   "metadata": {},
   "source": [
    "We will create a pandas dataframe using toPandas() which will generate the features as a pyarrow dataset and efficiently read them into memory in pandas locally.  \n",
    "  \n",
    "Let's train our first model to get a baseline. "
   ]
  },
  {
   "cell_type": "code",
   "execution_count": null,
   "metadata": {},
   "outputs": [],
   "source": [
    "df = train_snowdf.sort('DATE', ascending=True).to_pandas()\n",
    "df, model, feature_columns = train_predict(df)"
   ]
  },
  {
   "cell_type": "code",
   "execution_count": null,
   "metadata": {},
   "outputs": [],
   "source": [
    "plot(df, 'DATE', 'COUNT', 'Y_PRED')"
   ]
  },
  {
   "cell_type": "markdown",
   "metadata": {},
   "source": [
    "#### What if we add US holidays as a feature?\n",
    "Pandas has great support for holiday lists.  We can generate a pandas dataframe and then upload it as a table to create a new feature."
   ]
  },
  {
   "cell_type": "code",
   "execution_count": null,
   "metadata": {},
   "outputs": [],
   "source": [
    "def generate_holiday_df(session, start_date, end_date):\n",
    "    from snowflake.snowpark import functions as F \n",
    "    import pandas as pd\n",
    "    from pandas.tseries.holiday import USFederalHolidayCalendar\n",
    "\n",
    "    cal = USFederalHolidayCalendar()\n",
    "    holiday_list = pd.DataFrame(cal.holidays(start=start_date, end=end_date), columns=['DATE'], dtype=str)\n",
    "    holiday_df = session.create_dataframe(holiday_list) \\\n",
    "                        .toDF(holiday_list.columns[0]) \\\n",
    "                        .with_column(\"HOLIDAY\", F.lit(1))\n",
    "    return holiday_df\n",
    "    \n",
    "start_date, end_date = snowdf.select(F.min('STARTTIME'), F.max('STARTTIME')).collect()[0][0:2]\n",
    "\n",
    "holiday_df = generate_holiday_df(session, start_date=start_date, end_date=end_date)\n",
    "holiday_df.show(3)"
   ]
  },
  {
   "cell_type": "markdown",
   "metadata": {},
   "source": [
    "Here we create an in-memory instance of the holiday dataframe.  In production we probably want to materialize this feature as a table or view.  We'll see later how that is easy to do but for now we have a function to generate it and join it to our training dataframe as a one-hot feature."
   ]
  },
  {
   "cell_type": "markdown",
   "metadata": {},
   "source": [
    "Every time we join there is a possibility of losing data from our feature set if the join column doesn't cover the same dates.  So its good to check."
   ]
  },
  {
   "cell_type": "code",
   "execution_count": null,
   "metadata": {},
   "outputs": [],
   "source": [
    "train_snowdf = train_snowdf.join(holiday_df, 'DATE', join_type='left') \\\n",
    "                           .na.fill({'HOLIDAY':0}) \\\n",
    "                           .sort('DATE', ascending=True)\n",
    "train_snowdf.show()"
   ]
  },
  {
   "cell_type": "code",
   "execution_count": null,
   "metadata": {
    "scrolled": true
   },
   "outputs": [],
   "source": [
    "df = train_snowdf.sort('DATE', ascending=True).to_pandas()\n",
    "df, model, feature_columns = train_predict(df)"
   ]
  },
  {
   "cell_type": "code",
   "execution_count": null,
   "metadata": {},
   "outputs": [],
   "source": [
    "plot(df, 'DATE', 'COUNT', 'Y_PRED')"
   ]
  },
  {
   "cell_type": "markdown",
   "metadata": {},
   "source": [
    "#### Enhancing Model Accuracy With Weather Data\n",
    "\n",
    "Let's see how we can make our model even better with weather data. Its likely that weather and the amount of precipitation on the day will be an important signal for our model. \n",
    "  \n",
    "We might start by downloading weather data or setting up an API.  But this is a lot of work when we want to build inference pipelines later."
   ]
  },
  {
   "cell_type": "code",
   "execution_count": null,
   "metadata": {},
   "outputs": [],
   "source": [
    "def generate_precip_df(session, start_date, end_date):\n",
    "    from snowflake.snowpark import functions as F \n",
    "    import pandas as pd\n",
    "\n",
    "    tempdf = pd.read_csv('./include/weather.csv')\n",
    "    tempdf.set_index(pd.to_datetime(tempdf['dt_iso'].str.replace(' UTC', ''), \n",
    "                                    format='%Y-%m-%d %H:%M:%S %z', \n",
    "                                    utc=True), inplace=True)\n",
    "    tempdf['DATE'] = tempdf.index.tz_convert(\"America/New_York\")\n",
    "    tempdf['DATE'] = tempdf['DATE'].dt.date\n",
    "    tempdf = tempdf.groupby('DATE', as_index=False).agg(PRECIP=('rain_1h', 'sum'))\n",
    "    tempdf = tempdf.round(2)\n",
    "\n",
    "    precip_df = session.create_dataframe(tempdf).filter((F.col('DATE') >= start_date) &\n",
    "                                                        (F.col('DATE') <= end_date))\n",
    "    return precip_df"
   ]
  },
  {
   "cell_type": "markdown",
   "metadata": {},
   "source": [
    "####  Optionally use the [Snowflake Data Marketplace](https://www.snowflake.com/data-marketplace/?_sft_dataset-category=weather) & Data Sharing\n",
    "The Snowflake marketplace would allow us to very easily access weather data and join it with the trips data.  Not only is this faster and more scalable than building from a csv file or API, it is extremely easy to setup an operational pipeline to keep it fresh.  \n",
    "  \n",
    "For this demo we will continue to use the csv format as we cannot be sure that each user has access to the marketplace data already setup."
   ]
  },
  {
   "cell_type": "code",
   "execution_count": null,
   "metadata": {
    "scrolled": false
   },
   "outputs": [],
   "source": [
    "# def generate_precip_df(start_date, end_date):\n",
    "#     precip_df = session.table('CITIBIKE_WEATHER_V3.WEATHER_V3.HISTORY_DAY') \\\n",
    "#                          .filter(F.col('POSTAL_CODE') == '08562')\\\n",
    "#                          .select(F.col('DATE_VALID_STD').alias('DATE'), \n",
    "#                                  F.col('TOT_PRECIPITATION_IN').alias('PRECIP'))\n",
    "#     #precip_df = session.table('weather')\n",
    "\n",
    "#     return precip_df"
   ]
  },
  {
   "cell_type": "markdown",
   "metadata": {},
   "source": [
    "We add a precip feature by joining the precipitation dataframe."
   ]
  },
  {
   "cell_type": "code",
   "execution_count": null,
   "metadata": {},
   "outputs": [],
   "source": [
    "start_date, end_date = snowdf.select(F.min('STARTTIME'), F.max('STARTTIME')).collect()[0][0:2]\n",
    "\n",
    "precip_df = generate_precip_df(session, start_date=start_date, end_date=end_date)\n",
    "\n",
    "train_snowdf = train_snowdf.join(precip_df, 'DATE', 'inner').sort('DATE', ascending=True)\n",
    "\n",
    "train_snowdf.show()"
   ]
  },
  {
   "cell_type": "markdown",
   "metadata": {},
   "source": [
    "Again, check the date range after the join."
   ]
  },
  {
   "cell_type": "code",
   "execution_count": null,
   "metadata": {},
   "outputs": [],
   "source": [
    "train_snowdf.select(F.min('DATE'), F.max('DATE')).show()"
   ]
  },
  {
   "cell_type": "code",
   "execution_count": null,
   "metadata": {
    "scrolled": true
   },
   "outputs": [],
   "source": [
    "df = train_snowdf.sort('DATE', ascending=True).to_pandas()\n",
    "df, model, feature_columns = train_predict(df)"
   ]
  },
  {
   "cell_type": "code",
   "execution_count": null,
   "metadata": {},
   "outputs": [],
   "source": [
    "plot(df, 'DATE', 'COUNT', 'Y_PRED')"
   ]
  },
  {
   "cell_type": "markdown",
   "metadata": {},
   "source": [
    "#### Lets look at the feature importance\n",
    "One reason we chose tabnet for this analysis is the built-in abilities for explainability."
   ]
  },
  {
   "cell_type": "code",
   "execution_count": null,
   "metadata": {},
   "outputs": [],
   "source": [
    "pd.DataFrame([feature_columns, model.feature_importances_])"
   ]
  },
  {
   "cell_type": "markdown",
   "metadata": {},
   "source": [
    "#### Lets consolidate and upate our feature functions and save them for the ML engineering team to operationalize.\n",
    "Based on the feature importance above we will go with 1 and 7 day lags only."
   ]
  },
  {
   "cell_type": "code",
   "execution_count": null,
   "metadata": {},
   "outputs": [],
   "source": [
    "%%writefile dags/feature_engineering.py\n",
    "\n",
    "def generate_holiday_df(session, start_date, end_date):\n",
    "    from snowflake.snowpark import functions as F \n",
    "    import pandas as pd\n",
    "\n",
    "    cal = pd.tseries.holiday.USFederalHolidayCalendar()\n",
    "    holiday_list = pd.DataFrame(cal.holidays(start=start_date, end=end_date), columns=['DATE'], dtype=str)\n",
    "    holiday_df = session.create_dataframe(holiday_list) \\\n",
    "                        .toDF(holiday_list.columns[0]) \\\n",
    "                        .with_column(\"HOLIDAY\", F.lit(1))\n",
    "    return holiday_df\n",
    "\n",
    "def generate_precip_df(session, start_date, end_date):\n",
    "    from snowflake.snowpark import functions as F \n",
    "    import pandas as pd\n",
    "\n",
    "    tempdf = pd.read_csv('./include/weather.csv')\n",
    "    tempdf.set_index(pd.to_datetime(tempdf['dt_iso'].str.replace(' UTC', ''), \n",
    "                                    format='%Y-%m-%d %H:%M:%S %z', \n",
    "                                    utc=True), inplace=True)\n",
    "    tempdf['DATE'] = tempdf.index.tz_convert(\"America/New_York\")\n",
    "    tempdf['DATE'] = tempdf['DATE'].dt.date\n",
    "    tempdf = tempdf.groupby('DATE', as_index=False).agg(PRECIP=('rain_1h', 'sum'))\n",
    "    tempdf = tempdf.round(2)\n",
    "\n",
    "    precip_df = session.create_dataframe(tempdf).filter((F.col('DATE') >= start_date) &\n",
    "                                                        (F.col('DATE') <= end_date))\n",
    "    return precip_df\n",
    "\n",
    "\n",
    "def generate_features(session, input_df, holiday_table_name, precip_table_name):\n",
    "    import snowflake.snowpark as snp\n",
    "    from snowflake.snowpark import functions as F \n",
    "    \n",
    "#     start_date, end_date = input_df.select(F.min('STARTTIME'), F.max('STARTTIME')).collect()[0][0:2]\n",
    "\n",
    "#     holiday_df = session.table(holiday_table_name)\n",
    "#     try: \n",
    "#         _ = holiday_df.columns()\n",
    "#     except:\n",
    "#         holiday_df = generate_holiday_df(session=session,\n",
    "#                                          start_date=start_date,\n",
    "#                                          end_date=end_date)\n",
    "        \n",
    "#     precip_df = session.table(precip_table_name)\n",
    "#     try: \n",
    "#         _ = precip_df.columns()\n",
    "#     except:\n",
    "#         precip_df = generate_precip_df(session=session,\n",
    "#                                        start_date=start_date,\n",
    "#                                        end_date=end_date)\n",
    "\n",
    "    feature_df = input_df.select(F.to_date(F.col('STARTTIME')).alias('DATE'),\n",
    "                                 F.col('START_STATION_ID').alias('STATION_ID'))\\\n",
    "                         .groupBy(F.col('STATION_ID'), F.col('DATE'))\\\n",
    "                         .count()\n",
    "\n",
    "    #Impute missing values for lag columns using mean of the previous period.\n",
    "    mean_1 = round(feature_df.sort('DATE').limit(1).select(F.mean('COUNT')).collect()[0][0])\n",
    "    mean_7 = round(feature_df.sort('DATE').limit(7).select(F.mean('COUNT')).collect()[0][0])\n",
    "\n",
    "    date_win = snp.Window.orderBy('DATE')\n",
    "\n",
    "    feature_df = feature_df.with_column('LAG_1', F.lag('COUNT', offset=1, default_value=mean_1) \\\n",
    "                                         .over(date_win)) \\\n",
    "                           .with_column('LAG_7', F.lag('COUNT', offset=7, default_value=mean_7) \\\n",
    "                                         .over(date_win)) \\\n",
    "#                            .join(holiday_df, 'DATE', join_type='left').na.fill({'HOLIDAY':0}) \\\n",
    "#                            .join(precip_df, 'DATE', 'inner') \\\n",
    "#                           .na.drop() \n",
    "\n",
    "    return feature_df\n"
   ]
  },
  {
   "cell_type": "markdown",
   "metadata": {},
   "source": [
    "Make one final test of feature engineering with our new code then train the final model."
   ]
  },
  {
   "cell_type": "code",
   "execution_count": null,
   "metadata": {
    "scrolled": true
   },
   "outputs": [],
   "source": [
    "from dags.feature_engineering import generate_features, generate_precip_df, generate_holiday_df\n",
    "\n",
    "snowdf = session.table(trips_table_name).filter(F.col('START_STATION_ID') == top_stations[0])\n",
    "\n",
    "train_snowdf = generate_features(session=session, \n",
    "                                 input_df=snowdf, \n",
    "                                 holiday_table_name=holiday_table_name, \n",
    "                                 precip_table_name=precip_table_name)\n",
    "\n",
    "df = train_snowdf.sort('DATE', ascending=True).toPandas()\n",
    "df, model, feature_columns = train_predict(df)"
   ]
  },
  {
   "cell_type": "code",
   "execution_count": null,
   "metadata": {},
   "outputs": [],
   "source": [
    "plot(df, 'DATE', 'COUNT', 'Y_PRED')"
   ]
  },
  {
   "cell_type": "code",
   "execution_count": null,
   "metadata": {},
   "outputs": [],
   "source": [
    "df[-7:]"
   ]
  },
  {
   "cell_type": "code",
   "execution_count": null,
   "metadata": {},
   "outputs": [],
   "source": [
    "from datetime import timedelta\n",
    "pred_period=7\n",
    "\n",
    "#future_df = pd.DataFrame()\n",
    "#future_df = df[-pred_period:][['DATE','COUNT']].reset_index()\n",
    "#future_df['FUTURE_DATE'] = df[-pred_period:]['DATE'] + timedelta(days=pred_period)\n",
    "#future_df['LAG_7']=df[-pred_period:]['COUNT']\n",
    "#future_df = pd.DataFrame([[station_id, future_date, pred, lag_1, lag_7, pred]], columns=df.columns)\n",
    "\n",
    "station_id = str(df[-1:]['STATION_ID'].values[0])\n",
    "lag_1 = int(df[-1:]['COUNT'].values)\n",
    "lag_7 = int(df[-pred_period:]['COUNT'][:1].values)\n",
    "count = pred = round(model.predict(nd.array([[lag_1, lag_7]]))[0][0])\n",
    "future_date = df[-1:]['DATE'] + timedelta(days=1)\n",
    "future_date = future_date.values[0]\n",
    "forecast_data = [[station_id, future_date, count, lag_1, lag_7, pred]]\n",
    "\n",
    "forecast_data    "
   ]
  },
  {
   "cell_type": "code",
   "execution_count": null,
   "metadata": {},
   "outputs": [],
   "source": [
    "for row in reversed(range(1,pred_period)):\n",
    "#     station_id = str(future_df[-1:]['STATION_ID'].values[0])\n",
    "#     lag_1 = future_df[-1:]['COUNT'].values[0]\n",
    "#     lag_7 = int(df.iloc[[-row]]['COUNT'].values)\n",
    "#     pred = round(model.predict(nd.array([[lag_1, lag_7]]))[0][0])\n",
    "#     future_date = future_df[-1:]['DATE'] + timedelta(days=1)\n",
    "#     future_date = future_date.values[0]\n",
    "#     future_df.iloc[pred_period-row] = [[station_id, future_date, pred, lag_1, lag_7, pred]]\n",
    "    station_id = forecast_data[-1][0]\n",
    "    lag_1 = forecast_data[-1][2]\n",
    "    lag_7 = int(df.iloc[[-row]]['COUNT'].values)\n",
    "    count = pred = round(model.predict(nd.array([[lag_1, lag_7]]))[0][0])\n",
    "    future_date = forecast_data[-1][1]+timedelta(days=1)\n",
    "    forecast_data.append([station_id, future_date, pred, lag_1, lag_7, pred])\n",
    "    #print([[station_id, future_date, pred, lag_1, lag_7, pred]])\n",
    "\n",
    "forecast_df = pd.DataFrame(forecast_data, columns=df.columns)"
   ]
  },
  {
   "cell_type": "code",
   "execution_count": null,
   "metadata": {},
   "outputs": [],
   "source": [
    "df[-pred_period-7:]"
   ]
  },
  {
   "cell_type": "code",
   "execution_count": null,
   "metadata": {},
   "outputs": [],
   "source": [
    "forecast_df"
   ]
  },
  {
   "cell_type": "code",
   "execution_count": null,
   "metadata": {},
   "outputs": [],
   "source": [
    "for row in reversed(range(1,pred_period)):\n",
    "    print(str(row)+' '+str(pred_period-row))"
   ]
  },
  {
   "cell_type": "code",
   "execution_count": null,
   "metadata": {},
   "outputs": [],
   "source": []
  },
  {
   "cell_type": "code",
   "execution_count": null,
   "metadata": {},
   "outputs": [],
   "source": []
  },
  {
   "cell_type": "code",
   "execution_count": null,
   "metadata": {},
   "outputs": [],
   "source": []
  },
  {
   "cell_type": "code",
   "execution_count": null,
   "metadata": {},
   "outputs": [],
   "source": []
  },
  {
   "cell_type": "code",
   "execution_count": null,
   "metadata": {},
   "outputs": [],
   "source": []
  },
  {
   "cell_type": "markdown",
   "metadata": {},
   "source": [
    "### Inference Testing and Evaluation\n",
    "We will want to be able to look back over an period of time to check model performance over a specific period."
   ]
  },
  {
   "cell_type": "code",
   "execution_count": null,
   "metadata": {},
   "outputs": [],
   "source": [
    "def generate_past_df(session, trips_table_name, station_id, pred_period, steps, holiday_table_name, precip_table_name):\n",
    "    from dags.feature_engineering import generate_features\n",
    "    \n",
    "    end_date = session.table(trips_table_name).select(F.max('STARTTIME')).collect()[0][0]\n",
    "    pastdf = session.table(trips_table_name)\\\n",
    "                    .filter(F.col('START_STATION_ID') == station_id)\\\n",
    "                    .filter(F.to_date('STARTTIME') >= F.dateadd(pred_interval, \n",
    "                                                                F.lit(-7+pred_period), \n",
    "                                                                F.lit(end_date)))\n",
    "    newdf = generate_features(session=session, \n",
    "                              input_df=pastdf, \n",
    "                              holiday_table_name=holiday_table_name,\n",
    "                              precip_table_name=precip_table_name)\n",
    "\n",
    "    newdf = newdf.filter(F.to_date('DATE') >= F.dateadd(pred_interval,\n",
    "                                                        F.lit(pred_period),\n",
    "                                                        F.lit(end_date)))\n",
    "  \n",
    "    return newdf"
   ]
  },
  {
   "cell_type": "markdown",
   "metadata": {},
   "source": [
    "Lets see how our model performed for the previous 90 days"
   ]
  },
  {
   "cell_type": "code",
   "execution_count": null,
   "metadata": {},
   "outputs": [],
   "source": [
    "pred_period=-90\n",
    "pred_interval='DAY'\n",
    "past_df = generate_past_df(session=session, \n",
    "                           trips_table_name=trips_table_name, \n",
    "                           station_id=top_stations[0], \n",
    "                           pred_period=pred_period, \n",
    "                           pred_interval='DAY',\n",
    "                           holiday_table_name=holiday_table_name,\n",
    "                           precip_table_name=precip_table_name)\n",
    "\n",
    "target = ['COUNT']\n",
    "\n",
    "df = past_df.sort('DATE', ascending=True).toPandas()\n",
    "\n",
    "df['Y_PRED'] = predict(model, df[feature_columns].astype(float).values).astype('int')\n",
    "\n",
    "# MSE = mean_squared_error(y_pred=df['Y_PRED'], y_true=df[target])\n",
    "# display(\"Error for \"+str(prediction_period)+\" days from \"+today+\" is: \"+str(MSE))"
   ]
  },
  {
   "cell_type": "code",
   "execution_count": null,
   "metadata": {},
   "outputs": [],
   "source": [
    "past_df.select(F.min('DATE'), F.max('DATE')).show()"
   ]
  },
  {
   "cell_type": "code",
   "execution_count": null,
   "metadata": {},
   "outputs": [],
   "source": [
    "plot(df, 'DATE', 'COUNT', 'Y_PRED')"
   ]
  },
  {
   "cell_type": "code",
   "execution_count": null,
   "metadata": {},
   "outputs": [],
   "source": [
    "def generate_future_df(historical_df, start_date='2020-02-29', prediction_period=7):\n",
    "    lag_max=7\n",
    "    \n",
    "    \n",
    "    return None"
   ]
  },
  {
   "cell_type": "code",
   "execution_count": null,
   "metadata": {},
   "outputs": [],
   "source": [
    "lag_max=7"
   ]
  },
  {
   "cell_type": "code",
   "execution_count": null,
   "metadata": {},
   "outputs": [],
   "source": [
    "train_snowdf.filter(F.col('DATE').between(F.dateadd('DAY', \n",
    "                                                    F.lit(-lag_max-2), \n",
    "                                                    start_date_snp), \n",
    "                                          start_date_snp)).show()"
   ]
  },
  {
   "cell_type": "code",
   "execution_count": null,
   "metadata": {},
   "outputs": [],
   "source": [
    "start_date='2020-02-29'\n",
    "session.range(1).select(start_date_snp, F.dateadd('DAY', F.lit(-7), start_date_snp)).show()"
   ]
  },
  {
   "cell_type": "code",
   "execution_count": null,
   "metadata": {},
   "outputs": [],
   "source": [
    "def generate_future_df(table, station_id, today, prediction_period):\n",
    "    \n",
    "    newdf = session.table(table).filter((F.to_date('STARTTIME') < F.dateadd('DAY', \n",
    "                                                                            F.lit(prediction_period), \n",
    "                                                                            F.to_date(F.lit(today))))\n",
    "                                        &\n",
    "                                        (F.to_date('STARTTIME') >= F.dateadd('DAY', \n",
    "                                                                             F.lit(-365), \n",
    "                                                                             F.to_date(F.lit(today)))))\n",
    "\n",
    "    newdf = generate_features(newdf, station_id)\n",
    "    newdf = newdf.filter(F.to_date('DATE') >= F.to_date(F.lit(today)))\n",
    "\n",
    "    return newdf\n",
    "\n",
    "#Lets predict the next 7 days\n",
    "prediction_period=7\n",
    "today\n",
    "\n",
    "future_df = generate_future_df(table=table, \n",
    "             station_id=top_stations[0], \n",
    "             today=today, \n",
    "             prediction_period=prediction_period)\n",
    "\n",
    "future_df.select(F.min('DATE'), F.max('DATE')).show()\n",
    "\n",
    "target = ['COUNT']\n",
    "feature_columns = [feature.replace('\\\"', '') for feature in future_df.columns]\n",
    "feature_columns.remove(target[0])\n",
    "feature_columns.remove('DATE')\n",
    "\n",
    "df = future_df.sort('DATE', ascending=True).toPandas()\n",
    "\n",
    "df['Y_PRED'] = predict(model, df[feature_columns].values).astype('int')\n",
    "\n",
    "df[['DATE']+feature_columns+['Y_PRED']]"
   ]
  },
  {
   "cell_type": "code",
   "execution_count": null,
   "metadata": {},
   "outputs": [],
   "source": [
    "#Todo: create predict_future() since we don't have imaginary data to use."
   ]
  },
  {
   "cell_type": "code",
   "execution_count": null,
   "metadata": {},
   "outputs": [],
   "source": []
  }
 ],
 "metadata": {
  "authors": [
   {
    "name": "cforbe"
   }
  ],
  "kernelspec": {
   "display_name": "Python 3 (ipykernel)",
   "language": "python",
   "name": "python3"
  },
  "language_info": {
   "codemirror_mode": {
    "name": "ipython",
    "version": 3
   },
   "file_extension": ".py",
   "mimetype": "text/x-python",
   "name": "python",
   "nbconvert_exporter": "python",
   "pygments_lexer": "ipython3",
   "version": "3.8.12"
  },
  "msauthor": "trbye"
 },
 "nbformat": 4,
 "nbformat_minor": 4
}
